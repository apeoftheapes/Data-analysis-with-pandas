{
 "cells": [
  {
   "cell_type": "code",
   "execution_count": null,
   "id": "79f0c7df-c4d0-4c04-a6ca-d6a2ef4e6552",
   "metadata": {},
   "outputs": [],
   "source": [
    "import pandas as pd\n",
    "import matplotlib.pyplot as plt\n",
    "import matplotlib.dates as mdates\n",
    "from datetime import datetime, date\n",
    "import matplotlib.ticker as mticker\n",
    "\n",
    "\n",
    "df = pd.read_csv('CRYPTOCAP_TOTAL, 1D.csv')\n",
    "df['time'] = df['time'].apply(lambda x: datetime.fromtimestamp(x))\n",
    "\n",
    "df = df[(df['time'] >= datetime.fromisoformat('2023-04-01')) & (df['time'] <= datetime.fromisoformat('2023-11-30'))]\n",
    "x = df['time']\n",
    "y1 = df['close']\n",
    "y2 = df['BTC.D · CRYPTOCAP: Close'].ffill()\n",
    "\n",
    "fig, ax1 = plt.subplots(figsize=(10,4))\n",
    "\n",
    "ax2 = ax1.twinx()\n",
    "ax1.plot(x, y1, '-', color = (208/255, 208/255, 208/235), zorder = 10)\n",
    "ax2.plot(x, y2, '-', color = (36/255, 251/255, 169/255),zorder = 1)\n",
    "ax1.fill_between(x, y1, color = (208/255, 208/255, 208/235), alpha = 0.2)\n",
    "\n",
    "\n",
    "\n",
    "ax1.xaxis_date()\n",
    "ax1.xaxis.set_major_formatter(mdates.DateFormatter('%Y-%b'))\n",
    "fig.autofmt_xdate()\n",
    "\n",
    "ax1.set_ylabel('TOTAL crypto market cap, $', color= (208/255, 208/255, 208/235))\n",
    "ax2.set_ylabel('Bitcoin dominance', color = (36/255, 251/255, 169/255))\n",
    "\n",
    "# format number to a more readable form\n",
    "def human_format(num):\n",
    "    magnitude = 0\n",
    "    while abs(num) >= 100:\n",
    "        magnitude += 1\n",
    "        num /= 1000.0\n",
    "    # add more suffixes if you need them\n",
    "    return '%.2f%s' % (num, ['', 'K', 'M', 'bn', 'T', 'TT'][magnitude])\n",
    "\n",
    "ticks_loc = ax1.get_yticks().tolist();\n",
    "ax1.yaxis.set_major_locator(mticker.FixedLocator(ticks_loc));\n",
    "ax1.set_yticklabels([human_format(x) for x in ticks_loc]);\n",
    "ticks_loc = ax2.get_yticks().tolist();\n",
    "ax2.yaxis.set_major_locator(mticker.FixedLocator(ticks_loc));\n",
    "ax2.set_yticklabels([f'{x:.0f}%' for x in ticks_loc]);\n"
   ]
  }
 ],
 "metadata": {
  "kernelspec": {
   "display_name": "Python 3 (ipykernel)",
   "language": "python",
   "name": "python3"
  },
  "language_info": {
   "codemirror_mode": {
    "name": "ipython",
    "version": 3
   },
   "file_extension": ".py",
   "mimetype": "text/x-python",
   "name": "python",
   "nbconvert_exporter": "python",
   "pygments_lexer": "ipython3",
   "version": "3.10.2"
  }
 },
 "nbformat": 4,
 "nbformat_minor": 5
}
